{
 "cells": [
  {
   "cell_type": "markdown",
   "id": "7fb5fff5-781e-444d-b02f-7ded6190516f",
   "metadata": {},
   "source": [
    "# Principaux types de données en Python أنماط البيانات"
   ]
  },
  {
   "cell_type": "markdown",
   "id": "ba22ad77-e0f4-46be-a5da-a09faf458f5b",
   "metadata": {},
   "source": [
    "## 1- Le type int (entier) عدد صحيح\n",
    "Le type <b>int</b> est utilisé pour stocker un entier, en anglais integer."
   ]
  },
  {
   "cell_type": "code",
   "execution_count": null,
   "id": "e19f1bed-8414-4aa6-b7e1-957dc4df2756",
   "metadata": {},
   "outputs": [],
   "source": [
    "# Le type int.\n",
    "a = 19"
   ]
  },
  {
   "cell_type": "markdown",
   "id": "ab14f29c-1e3e-44d3-99d4-f0db61163bb4",
   "metadata": {},
   "source": [
    "<div class=\"alert alert-block alert-info\">\n",
    "Pour afficher un commentaire on utilse le symbole # تعليق\n",
    "</div>"
   ]
  },
  {
   "cell_type": "markdown",
   "id": "90286be3-64ea-4979-9dda-77a438188c36",
   "metadata": {},
   "source": [
    "<div class=\"alert alert-block alert-info\">\n",
    "Pour connaître le type d’une variable, on utilse la fonction : <b>type()</b> لمعرفة نمط متغير\n",
    "</div>"
   ]
  },
  {
   "cell_type": "code",
   "execution_count": null,
   "id": "3cb345d2-8a25-498f-82b0-ebbcea258715",
   "metadata": {},
   "outputs": [],
   "source": [
    "# Afficher le type de la variable a\n",
    "type(a)"
   ]
  },
  {
   "cell_type": "code",
   "execution_count": null,
   "id": "5e347c3d-6da9-4214-babb-91a841714cf2",
   "metadata": {},
   "outputs": [],
   "source": [
    "type(504)"
   ]
  },
  {
   "cell_type": "markdown",
   "id": "96da649c-bcf4-47dc-9463-1c63ef88bdc0",
   "metadata": {},
   "source": [
    "## 2- Le type float (réel flotant) عدد حقيقي"
   ]
  },
  {
   "cell_type": "markdown",
   "id": "fabf539b-721b-47c6-b4d5-f73ba24634e5",
   "metadata": {},
   "source": [
    "Le type <b>float</b> est utilisé pour stocker des nombres à virgule flottante (un réel)"
   ]
  },
  {
   "cell_type": "code",
   "execution_count": null,
   "id": "8b114453-56c0-442a-84bc-ba23731c6280",
   "metadata": {},
   "outputs": [],
   "source": [
    "x= 15.50"
   ]
  },
  {
   "cell_type": "code",
   "execution_count": null,
   "id": "a3659b8b-8e71-4124-bc8a-ff191e15a2cd",
   "metadata": {},
   "outputs": [],
   "source": [
    "type(x)"
   ]
  },
  {
   "cell_type": "code",
   "execution_count": null,
   "id": "ac036c95-6354-47e7-a500-d6497a410f77",
   "metadata": {},
   "outputs": [],
   "source": [
    "y=19."
   ]
  },
  {
   "cell_type": "code",
   "execution_count": null,
   "id": "ec78da24-cebd-43cd-9ea2-724871fefcd1",
   "metadata": {},
   "outputs": [],
   "source": [
    "type(y)"
   ]
  },
  {
   "cell_type": "code",
   "execution_count": null,
   "id": "dbc7172f-4e66-4e6b-9dad-add8c3dd2a97",
   "metadata": {},
   "outputs": [],
   "source": [
    "y"
   ]
  },
  {
   "cell_type": "code",
   "execution_count": null,
   "id": "e9ce6567-0bb5-42bd-bb78-ef21abe98f05",
   "metadata": {},
   "outputs": [],
   "source": [
    "z=1.25e10"
   ]
  },
  {
   "cell_type": "code",
   "execution_count": null,
   "id": "981ec54a-01e7-4649-b94d-136827763ad4",
   "metadata": {},
   "outputs": [],
   "source": [
    "z"
   ]
  },
  {
   "cell_type": "markdown",
   "id": "65d4bc99-cd98-47a0-954e-5eba6705b7ae",
   "metadata": {},
   "source": [
    "## 3- Le type str (chaîne de caractères) سلسلة أحرف"
   ]
  },
  {
   "cell_type": "markdown",
   "id": "4e790f3f-b307-415c-82e8-cc4dc11881d1",
   "metadata": {},
   "source": [
    "Le type <b>str</b> est une suite de caractères délimitée soit par des apostrophes ' (simple quotes), soit par des guillemets \" (double quotes). str est l’abréviation de string, "
   ]
  },
  {
   "cell_type": "code",
   "execution_count": null,
   "id": "16de40c4-63cc-4620-be90-ec813192e101",
   "metadata": {},
   "outputs": [],
   "source": [
    "ch1 = 'Algérie'"
   ]
  },
  {
   "cell_type": "code",
   "execution_count": null,
   "id": "70aee747-6e45-4120-a3b5-81b187b04991",
   "metadata": {},
   "outputs": [],
   "source": [
    "type(ch1)"
   ]
  },
  {
   "cell_type": "code",
   "execution_count": null,
   "id": "32d5d9c5-c48f-4bba-bd26-dd8dd10f5882",
   "metadata": {},
   "outputs": [],
   "source": [
    "ch2 = \"Maghnia\""
   ]
  },
  {
   "cell_type": "code",
   "execution_count": null,
   "id": "e057f950-b53f-4a93-bc6e-629aabb9b428",
   "metadata": {},
   "outputs": [],
   "source": [
    "type(ch2)"
   ]
  },
  {
   "cell_type": "markdown",
   "id": "65c5e65c-7bae-4178-8b44-4a1ffe896055",
   "metadata": {},
   "source": [
    "## 4- Le type bool (booléen) منطقي\n",
    "Le type <b>bool</b> est utilisé pour les booléens. Un booléen peut prendre les valeurs True ou False."
   ]
  },
  {
   "cell_type": "code",
   "execution_count": null,
   "id": "d526c517-2c00-4f38-8e63-9000c2d1fa83",
   "metadata": {},
   "outputs": [],
   "source": [
    "b = True"
   ]
  },
  {
   "cell_type": "code",
   "execution_count": null,
   "id": "28eaf46a-53e6-4b43-9529-58f17412cf5d",
   "metadata": {},
   "outputs": [],
   "source": [
    "type(b)"
   ]
  },
  {
   "cell_type": "code",
   "execution_count": null,
   "id": "500d4da3-2fa1-4278-8217-87adeaf5270f",
   "metadata": {},
   "outputs": [],
   "source": [
    "d = 5 > 8"
   ]
  },
  {
   "cell_type": "code",
   "execution_count": null,
   "id": "ad79391d-61fb-4289-9c88-25dfd857d29c",
   "metadata": {},
   "outputs": [],
   "source": [
    "d"
   ]
  },
  {
   "cell_type": "code",
   "execution_count": null,
   "id": "eb56271e-89f8-46b7-bd8f-ef1fbc953cdf",
   "metadata": {},
   "outputs": [],
   "source": [
    "type(d)"
   ]
  },
  {
   "cell_type": "markdown",
   "id": "56d31a8b-3814-4ecd-9e52-75c7b21fd1a2",
   "metadata": {},
   "source": [
    "# La fonction print دالة الطباعة على الشاشة"
   ]
  },
  {
   "cell_type": "markdown",
   "id": "d8f63b20-8d74-42b4-86f8-48817efdcf59",
   "metadata": {},
   "source": [
    "La fonction <b>print</b> permet d'afficher n'importe quel objet Python dans la console."
   ]
  },
  {
   "cell_type": "markdown",
   "id": "a67e5f44-99f6-4a73-8aa9-9e814f676816",
   "metadata": {},
   "source": [
    "## 1- Afficher un message رسالة نصية\n",
    "en utilisant la simple quote (apostrophe ' ) ou la double quote (guillemet \" )"
   ]
  },
  {
   "cell_type": "code",
   "execution_count": null,
   "id": "68fa2337-4cde-430b-a270-6d92db10e16d",
   "metadata": {},
   "outputs": [],
   "source": [
    "print('Hello! EMF')"
   ]
  },
  {
   "cell_type": "code",
   "execution_count": null,
   "id": "5bc94756-0cae-4dec-ad49-52fbf1dae06d",
   "metadata": {},
   "outputs": [],
   "source": [
    "print(\"Hello! EGE\")"
   ]
  },
  {
   "cell_type": "markdown",
   "id": "41b831fb-dde9-4871-966b-cf314936e130",
   "metadata": {},
   "source": [
    "La fonction print accepte plusieurs paramètres"
   ]
  },
  {
   "cell_type": "code",
   "execution_count": null,
   "id": "7b46ff14-9117-4ea6-900c-e0983ef7e215",
   "metadata": {},
   "outputs": [],
   "source": [
    "print(\"Hello!\",\"EMF\",\"and\",\"EGE\")"
   ]
  },
  {
   "cell_type": "code",
   "execution_count": null,
   "id": "7e210f13-663f-4b5c-88c2-ce58316da4b0",
   "metadata": {},
   "outputs": [],
   "source": [
    "# Aficcher sur plusieurs ligne anvec \\n = newline\n",
    "print(\"Hello! \\n EMF and EGE\")"
   ]
  },
  {
   "cell_type": "code",
   "execution_count": null,
   "id": "71ace485-12c5-4e38-a2de-b888ea01ba89",
   "metadata": {},
   "outputs": [],
   "source": [
    "# pour afficher l'apostrophe dans une chaine\n",
    "# 1- on utilse print avec des guillemets\n",
    "print(\"c'est dimanche\")"
   ]
  },
  {
   "cell_type": "code",
   "execution_count": null,
   "id": "5ab7bb5a-27f3-4a69-982c-4f77e57beb92",
   "metadata": {},
   "outputs": [],
   "source": [
    "# 2- l'apostrophe est précédée par un antislash (backslash)\n",
    "print('c\\'est dimanche')"
   ]
  },
  {
   "cell_type": "code",
   "execution_count": null,
   "id": "f0ca370c-aa7a-4ce7-9e23-f4d4be3c85c1",
   "metadata": {},
   "outputs": [],
   "source": [
    "# 3- on utilise 3 apostrophes\n",
    "print('''c'est dimanche''')"
   ]
  },
  {
   "cell_type": "markdown",
   "id": "d1b1c83b-32e1-493b-a8f0-3cb6490079f6",
   "metadata": {},
   "source": [
    "## 2- Afficher le contenu d'une variable قيمة متغير"
   ]
  },
  {
   "cell_type": "code",
   "execution_count": 90,
   "id": "3d0973ca-1054-4e57-b547-07b0cc510818",
   "metadata": {},
   "outputs": [
    {
     "name": "stdout",
     "output_type": "stream",
     "text": [
      "20\n",
      "1.5\n",
      "True\n",
      "PIASHS\n"
     ]
    }
   ],
   "source": [
    "a = 20\n",
    "x = 1.5\n",
    "b = a > 5\n",
    "ch = \"PIASHS\"\n",
    "print(a)\n",
    "print(x)\n",
    "print(b)\n",
    "print(ch)"
   ]
  },
  {
   "cell_type": "markdown",
   "id": "d0a094bf-b176-4355-92cb-c6d2c30c5133",
   "metadata": {},
   "source": [
    "## 3- Afficher un message et le contenu d'une variable عرض رسالة نصية و قيمة متغير"
   ]
  },
  {
   "cell_type": "code",
   "execution_count": 91,
   "id": "be39116e-fe7a-468e-8d23-a8eaaef49a43",
   "metadata": {},
   "outputs": [
    {
     "name": "stdout",
     "output_type": "stream",
     "text": [
      "a = 20\n",
      "x = 1.5\n",
      "La valeur de b est logique et = True\n"
     ]
    }
   ],
   "source": [
    "print(\"a =\",a)\n",
    "print(\"x =\",x)\n",
    "print(\"La valeur de b est logique et =\",b)"
   ]
  },
  {
   "cell_type": "markdown",
   "id": "5fe3fc46-ca89-42a3-b085-3064e2d6457f",
   "metadata": {},
   "source": [
    "## 4- Afficher un message et des variables en utilisant les <b>f-strings</b> (formatted string literals) "
   ]
  },
  {
   "cell_type": "markdown",
   "id": "29acb7f9-29cb-4da1-82e4-5b95c2c44d11",
   "metadata": {},
   "source": [
    "pour afficher les f-string \n",
    "1. précédé la chaine de caractères avec f\n",
    "2. pour afficher une variable on utilise les accolades {} (braces)."
   ]
  },
  {
   "cell_type": "code",
   "execution_count": 92,
   "id": "f1edc61b-1f00-405a-9c15-1d3cbf039709",
   "metadata": {},
   "outputs": [
    {
     "name": "stdout",
     "output_type": "stream",
     "text": [
      "Afficher la valeur de A = 20 dans une chaine\n"
     ]
    }
   ],
   "source": [
    "print(f\"Afficher la valeur de A = {a} dans une chaine\")"
   ]
  },
  {
   "cell_type": "code",
   "execution_count": 93,
   "id": "a8b34378-4466-4b16-9d47-8d689e90c9ad",
   "metadata": {},
   "outputs": [
    {
     "name": "stdout",
     "output_type": "stream",
     "text": [
      "enseigner la matière PIASHS pour les masters 1 EMF et EGE\n"
     ]
    }
   ],
   "source": [
    "mat = \"PIASHS\"\n",
    "opt1 = \"EMF\"\n",
    "opt2 = \"EGE\"\n",
    "print(f\"enseigner la matière {mat} pour les masters 1 {opt1} et {opt2}\")"
   ]
  },
  {
   "cell_type": "markdown",
   "id": "ecc604a4-53cf-4a9a-aa96-433757734c76",
   "metadata": {},
   "source": [
    "# Les opérateurs"
   ]
  },
  {
   "cell_type": "markdown",
   "id": "76c3e069-22f2-4d86-8234-3c8487693bb4",
   "metadata": {},
   "source": [
    "## 1- Opérateurs arithmétiques العمليات الحسابية"
   ]
  },
  {
   "cell_type": "markdown",
   "id": "c7213820-6ea8-4620-b5a5-ba9449778f36",
   "metadata": {},
   "source": [
    "pour effectuer des opérations mathématiques :\n",
    "1.  \\+    Addition الجمع\n",
    "2. – \tSoustraction الطرح\n",
    "3. \\* \tMultiplication الضرب\n",
    "4. / \tDivision القسمة\n",
    "5. % \tModulo الترديد (باقي القسمة)\n",
    "6. ** \tPuissance اﻷس\n",
    "7. //   Division entière القسمة الصحيحة"
   ]
  },
  {
   "cell_type": "code",
   "execution_count": 95,
   "id": "627a2f20-dba9-4ed5-bb5d-04982d37fb72",
   "metadata": {},
   "outputs": [],
   "source": [
    "a = 6\n",
    "b = 4"
   ]
  },
  {
   "cell_type": "code",
   "execution_count": 96,
   "id": "6376b367-9a33-4041-bbef-c5ae7372382f",
   "metadata": {},
   "outputs": [
    {
     "name": "stdout",
     "output_type": "stream",
     "text": [
      "c = 10\n"
     ]
    },
    {
     "data": {
      "text/plain": [
       "int"
      ]
     },
     "execution_count": 96,
     "metadata": {},
     "output_type": "execute_result"
    }
   ],
   "source": [
    "# Addition\n",
    "c = a + b\n",
    "print(f\"c = {c}\")\n",
    "type(c)"
   ]
  },
  {
   "cell_type": "code",
   "execution_count": 97,
   "id": "235135c9-3e30-453c-a822-4d15a00221f2",
   "metadata": {},
   "outputs": [
    {
     "name": "stdout",
     "output_type": "stream",
     "text": [
      "c = 2\n"
     ]
    },
    {
     "data": {
      "text/plain": [
       "int"
      ]
     },
     "execution_count": 97,
     "metadata": {},
     "output_type": "execute_result"
    }
   ],
   "source": [
    "# Soustraction\n",
    "c = a - b\n",
    "print(f\"c = {c}\")\n",
    "type(c)"
   ]
  },
  {
   "cell_type": "code",
   "execution_count": 98,
   "id": "c912285d-22d7-4585-a5eb-229148129bd6",
   "metadata": {},
   "outputs": [
    {
     "name": "stdout",
     "output_type": "stream",
     "text": [
      "c = 24\n"
     ]
    },
    {
     "data": {
      "text/plain": [
       "int"
      ]
     },
     "execution_count": 98,
     "metadata": {},
     "output_type": "execute_result"
    }
   ],
   "source": [
    "# Multiplication\n",
    "c = a * b\n",
    "print(f\"c = {c}\")\n",
    "type(c)"
   ]
  },
  {
   "cell_type": "code",
   "execution_count": 99,
   "id": "430f354a-42f9-47aa-9d6b-b31d4ae6c3c7",
   "metadata": {},
   "outputs": [
    {
     "name": "stdout",
     "output_type": "stream",
     "text": [
      "c = 1.5\n"
     ]
    },
    {
     "data": {
      "text/plain": [
       "float"
      ]
     },
     "execution_count": 99,
     "metadata": {},
     "output_type": "execute_result"
    }
   ],
   "source": [
    "# Division\n",
    "c = a / b\n",
    "print(f\"c = {c}\")\n",
    "type(c)"
   ]
  },
  {
   "cell_type": "code",
   "execution_count": 100,
   "id": "cdbbb404-3de3-4119-8676-d55fbe247cdc",
   "metadata": {},
   "outputs": [
    {
     "name": "stdout",
     "output_type": "stream",
     "text": [
      "c = 1\n"
     ]
    },
    {
     "data": {
      "text/plain": [
       "int"
      ]
     },
     "execution_count": 100,
     "metadata": {},
     "output_type": "execute_result"
    }
   ],
   "source": [
    "# Division entière\n",
    "c = a // b\n",
    "print(f\"c = {c}\")\n",
    "type(c)"
   ]
  },
  {
   "cell_type": "code",
   "execution_count": 101,
   "id": "3a55f4a3-4937-4ac9-a52a-c6274f79f0d8",
   "metadata": {},
   "outputs": [
    {
     "name": "stdout",
     "output_type": "stream",
     "text": [
      "c = 2\n"
     ]
    },
    {
     "data": {
      "text/plain": [
       "int"
      ]
     },
     "execution_count": 101,
     "metadata": {},
     "output_type": "execute_result"
    }
   ],
   "source": [
    "# Modulo\n",
    "c = a % b\n",
    "print(f\"c = {c}\")\n",
    "type(c)"
   ]
  },
  {
   "cell_type": "code",
   "execution_count": 102,
   "id": "b4297b11-884e-406b-9542-67450b882823",
   "metadata": {},
   "outputs": [
    {
     "name": "stdout",
     "output_type": "stream",
     "text": [
      "c = 1296\n"
     ]
    },
    {
     "data": {
      "text/plain": [
       "int"
      ]
     },
     "execution_count": 102,
     "metadata": {},
     "output_type": "execute_result"
    }
   ],
   "source": [
    "# Puissance\n",
    "c = a ** b\n",
    "print(f\"c = {c}\")\n",
    "type(c)"
   ]
  },
  {
   "cell_type": "markdown",
   "id": "bbb5ca34-be82-4cf7-bfeb-ef4f5c150020",
   "metadata": {},
   "source": [
    "## 2- Opérateurs de comparaison عمليات المقارنة"
   ]
  },
  {
   "cell_type": "markdown",
   "id": "ddb53298-ccab-4569-a0a1-806046752890",
   "metadata": {},
   "source": [
    "#### \\>, >=, \\<, <=, == (égalité تُساوي), !=  (différence تختلف)"
   ]
  },
  {
   "cell_type": "code",
   "execution_count": 103,
   "id": "08fcf363-62a1-4227-b214-9c7828ae6027",
   "metadata": {},
   "outputs": [
    {
     "data": {
      "text/plain": [
       "False"
      ]
     },
     "execution_count": 103,
     "metadata": {},
     "output_type": "execute_result"
    }
   ],
   "source": [
    "4 > 5"
   ]
  },
  {
   "cell_type": "code",
   "execution_count": 104,
   "id": "005e2cda-0edd-41f0-85fd-cf0687e71df1",
   "metadata": {},
   "outputs": [],
   "source": [
    "logique = 6 >= 3"
   ]
  },
  {
   "cell_type": "code",
   "execution_count": 105,
   "id": "3a22c88c-c3d6-45ab-a23b-114ed9afdf69",
   "metadata": {},
   "outputs": [
    {
     "name": "stdout",
     "output_type": "stream",
     "text": [
      "True\n"
     ]
    }
   ],
   "source": [
    "print(logique)"
   ]
  },
  {
   "cell_type": "code",
   "execution_count": 106,
   "id": "9934340f-e875-4868-b813-00e99461ebe4",
   "metadata": {},
   "outputs": [
    {
     "data": {
      "text/plain": [
       "False"
      ]
     },
     "execution_count": 106,
     "metadata": {},
     "output_type": "execute_result"
    }
   ],
   "source": [
    "7 > 7"
   ]
  },
  {
   "cell_type": "code",
   "execution_count": 107,
   "id": "f38208e0-ff32-4b9d-b022-6968f13b4137",
   "metadata": {},
   "outputs": [
    {
     "data": {
      "text/plain": [
       "True"
      ]
     },
     "execution_count": 107,
     "metadata": {},
     "output_type": "execute_result"
    }
   ],
   "source": [
    "7 >= 7"
   ]
  },
  {
   "cell_type": "code",
   "execution_count": 108,
   "id": "a1598494-e803-4a49-a78d-7f946fe6b5ae",
   "metadata": {},
   "outputs": [
    {
     "data": {
      "text/plain": [
       "False"
      ]
     },
     "execution_count": 108,
     "metadata": {},
     "output_type": "execute_result"
    }
   ],
   "source": [
    "logique == False"
   ]
  },
  {
   "cell_type": "markdown",
   "id": "8a1aedfb-ba73-47ce-95cb-4623132a6beb",
   "metadata": {},
   "source": [
    "## 3- Opérateurs logiques العمليات المنطقية"
   ]
  },
  {
   "cell_type": "markdown",
   "id": "4f33cfc1-b7a2-4d43-9dee-92b45410998a",
   "metadata": {},
   "source": [
    "Les opérateurs logique sont : not (négation النفي), and (conjonction الوصل) et or (disjonction الفصل)"
   ]
  },
  {
   "cell_type": "code",
   "execution_count": 109,
   "id": "9cea9c1f-5c55-40e1-9b0f-0e18ca6d6ae5",
   "metadata": {},
   "outputs": [],
   "source": [
    "p = 5 > 3\n",
    "q = 8 < 5"
   ]
  },
  {
   "cell_type": "code",
   "execution_count": 110,
   "id": "13d3dfea-5bf6-4891-805e-36043f5d733f",
   "metadata": {},
   "outputs": [],
   "source": [
    "r = p and q\n",
    "s = p or q\n",
    "t = not (p)"
   ]
  },
  {
   "cell_type": "code",
   "execution_count": 111,
   "id": "c4506052-6b29-494b-8389-a83360fae6f5",
   "metadata": {},
   "outputs": [
    {
     "name": "stdout",
     "output_type": "stream",
     "text": [
      "True\n",
      "False\n",
      "False\n",
      "True\n",
      "False\n"
     ]
    }
   ],
   "source": [
    "print(p)\n",
    "print(q)\n",
    "print(r)\n",
    "print(s)\n",
    "print(t)"
   ]
  },
  {
   "cell_type": "markdown",
   "id": "d8b13ae6-c564-4b96-92e1-beb08a22c554",
   "metadata": {},
   "source": [
    "## 4- Les opérateurs de chaines"
   ]
  },
  {
   "cell_type": "markdown",
   "id": "edf22d5f-e2d9-4592-a93b-47d0ff80585b",
   "metadata": {},
   "source": [
    "pour effectuer les opérations sur les chaines de caractères (type str) :\n",
    "1.  \\+  Concaténation سلسلة\n",
    "2.  \\* \trépétition التكرار"
   ]
  },
  {
   "cell_type": "code",
   "execution_count": 112,
   "id": "22ef8b5c-9a4e-4335-b95e-fa3e78fb4fd3",
   "metadata": {},
   "outputs": [],
   "source": [
    "# Concaténation\n",
    "ch1 = \"Master 1\"\n",
    "ch2 = \"EMF\"\n",
    "ch3 = \"EGE\"\n",
    "section1 = ch1 + \" \" + ch2\n",
    "section2 = ch1 + \" \" + ch3"
   ]
  },
  {
   "cell_type": "code",
   "execution_count": 113,
   "id": "abd02e7e-dc48-4989-9cad-8d7a08e1f1d2",
   "metadata": {},
   "outputs": [
    {
     "name": "stdout",
     "output_type": "stream",
     "text": [
      "La Concaténation de la première chaine est : Master 1 EMF\n",
      "La Concaténation de la deuxième chaine est : Master 1 EGE\n"
     ]
    }
   ],
   "source": [
    "print(f\"La Concaténation de la première chaine est : {section1}\")\n",
    "print(f\"La Concaténation de la deuxième chaine est : {section2}\")"
   ]
  },
  {
   "cell_type": "code",
   "execution_count": 114,
   "id": "e28d01f5-7aea-4908-9ae7-eb1c57c95b67",
   "metadata": {},
   "outputs": [],
   "source": [
    "# Répétition\n",
    "ch =\"Master1\"\n",
    "rep = 2 * ch"
   ]
  },
  {
   "cell_type": "code",
   "execution_count": 115,
   "id": "8b48803e-4f67-4717-8926-a5efd62298f5",
   "metadata": {},
   "outputs": [
    {
     "name": "stdout",
     "output_type": "stream",
     "text": [
      "La répétition de la chaine donne : Master1Master1\n"
     ]
    }
   ],
   "source": [
    "print(f\"La répétition de la chaine donne : {rep}\")"
   ]
  },
  {
   "cell_type": "markdown",
   "id": "5790772d-0234-4306-8209-305e42380cfa",
   "metadata": {},
   "source": [
    "# Les structures de données en Python"
   ]
  },
  {
   "cell_type": "markdown",
   "id": "898d20e1-ce70-4fe1-8115-1814472897e7",
   "metadata": {},
   "source": [
    "## 1- les Tuples : tuple"
   ]
  },
  {
   "cell_type": "markdown",
   "id": "6c7fe068-d319-4ec5-a26f-9c24cc194a77",
   "metadata": {},
   "source": [
    "Une Séquence immuable hétérogène entre deux parenthèses, ne peut pas être mis à jour."
   ]
  },
  {
   "cell_type": "code",
   "execution_count": 116,
   "id": "c14ef1f2-c197-4651-98bc-66df31364a5b",
   "metadata": {},
   "outputs": [
    {
     "data": {
      "text/plain": [
       "tuple"
      ]
     },
     "execution_count": 116,
     "metadata": {},
     "output_type": "execute_result"
    }
   ],
   "source": [
    "# initialisation d'un tuple hétérogène\n",
    "tup = (4, 1.5, \"Master\")\n",
    "type(tup)"
   ]
  },
  {
   "cell_type": "code",
   "execution_count": 117,
   "id": "50c1c3eb-e881-49c1-b762-f8543bfa5964",
   "metadata": {},
   "outputs": [
    {
     "name": "stdout",
     "output_type": "stream",
     "text": [
      "Le deuxième élément est 1.5\n"
     ]
    }
   ],
   "source": [
    "# Accès au élément du tuple en utilisant les index : commence par 0\n",
    "x = tup[1]\n",
    "print(f\"Le deuxième élément est {x}\")"
   ]
  },
  {
   "cell_type": "code",
   "execution_count": 118,
   "id": "97cc5024-426c-4e20-8af9-eaf8854e550d",
   "metadata": {},
   "outputs": [
    {
     "name": "stdout",
     "output_type": "stream",
     "text": [
      "Le premier élément est 4\n"
     ]
    }
   ],
   "source": [
    "print(f\"Le premier élément est {tup[0]}\")"
   ]
  },
  {
   "cell_type": "code",
   "execution_count": 119,
   "id": "d6b5c2f2-17eb-4400-bbd7-38a4ced87400",
   "metadata": {},
   "outputs": [
    {
     "name": "stdout",
     "output_type": "stream",
     "text": [
      "3\n"
     ]
    }
   ],
   "source": [
    "# Nombre d'élément dans le tuple fonction : len() length = longueur\n",
    "print(len(tup))"
   ]
  },
  {
   "cell_type": "code",
   "execution_count": 120,
   "id": "dd2ef668-145e-4edf-a83d-2bc179ff6120",
   "metadata": {},
   "outputs": [
    {
     "name": "stdout",
     "output_type": "stream",
     "text": [
      "Le dernier avec -1 : Master\n",
      "Le dernier avec len() : Master\n"
     ]
    }
   ],
   "source": [
    "# afficher le dernier élément :\n",
    "last_elem = tup[-1]\n",
    "print(f\"Le dernier avec -1 : {last_elem}\")\n",
    "# ou\n",
    "last_one = tup[len(tup)-1]\n",
    "print(f\"Le dernier avec len() : {last_one}\")"
   ]
  },
  {
   "cell_type": "code",
   "execution_count": 121,
   "id": "e667dd2e-eef2-463c-90df-f4f5730fce77",
   "metadata": {},
   "outputs": [
    {
     "data": {
      "text/plain": [
       "tuple"
      ]
     },
     "execution_count": 121,
     "metadata": {},
     "output_type": "execute_result"
    }
   ],
   "source": [
    "#tup one la virgule est obligatoire\n",
    "tup_one = (5,)\n",
    "type(tup_one)"
   ]
  },
  {
   "cell_type": "code",
   "execution_count": 122,
   "id": "a38e01d0-687d-4279-8f71-6e1ddcc65a36",
   "metadata": {},
   "outputs": [
    {
     "name": "stdout",
     "output_type": "stream",
     "text": [
      "A = 4\n",
      "B = 6\n"
     ]
    }
   ],
   "source": [
    "# Affectation en utilisant la syntaxe des Tuples\n",
    "a, b = (4, 6)\n",
    "print(f\"A = {a}\")\n",
    "print(f\"B = {b}\")"
   ]
  },
  {
   "cell_type": "code",
   "execution_count": 123,
   "id": "d2dc0660-5953-4712-a704-8194f6783e47",
   "metadata": {},
   "outputs": [
    {
     "name": "stdout",
     "output_type": "stream",
     "text": [
      "C = 8\n",
      "D = 12\n"
     ]
    }
   ],
   "source": [
    "c, d = 8, 12\n",
    "print(f\"C = {c}\")\n",
    "print(f\"D = {d}\")"
   ]
  },
  {
   "cell_type": "code",
   "execution_count": 124,
   "id": "6145777a-31ad-47df-adcd-66f34daf7172",
   "metadata": {},
   "outputs": [
    {
     "name": "stdout",
     "output_type": "stream",
     "text": [
      "c = 8 , d = 12 , x = 8\n"
     ]
    }
   ],
   "source": [
    "# La permutation des variables dans autres langages\n",
    "# c == 8 et d == 12\n",
    "# x intermediaire \n",
    "# etape 1\n",
    "x = c\n",
    "print(f\"c = {c} , d = {d} , x = {x}\") "
   ]
  },
  {
   "cell_type": "code",
   "execution_count": 127,
   "id": "6dbe820e-6681-4b3c-9a5f-152890588f76",
   "metadata": {},
   "outputs": [
    {
     "name": "stdout",
     "output_type": "stream",
     "text": [
      "c = 12 , d = 8 , x = 8\n"
     ]
    }
   ],
   "source": [
    "#étape 3\n",
    "d = x\n",
    "print(f\"c = {c} , d = {d} , x = {x}\") "
   ]
  },
  {
   "cell_type": "code",
   "execution_count": 128,
   "id": "989eef21-cb1c-4950-9c85-053967100946",
   "metadata": {},
   "outputs": [
    {
     "name": "stdout",
     "output_type": "stream",
     "text": [
      "A = 4\n",
      "B = 6\n"
     ]
    }
   ],
   "source": [
    "print(f\"A = {a}\")\n",
    "print(f\"B = {b}\")"
   ]
  },
  {
   "cell_type": "code",
   "execution_count": 129,
   "id": "02ffeb55-de7b-4583-a837-c1219380b8f8",
   "metadata": {},
   "outputs": [],
   "source": [
    "# permutation de 2 variable A et B\n",
    "a, b = b, a"
   ]
  },
  {
   "cell_type": "code",
   "execution_count": 130,
   "id": "dd2345e7-4acf-4b77-a6e5-faf846c6b1bb",
   "metadata": {},
   "outputs": [
    {
     "name": "stdout",
     "output_type": "stream",
     "text": [
      "A = 6\n",
      "B = 4\n"
     ]
    }
   ],
   "source": [
    "print(f\"A = {a}\")\n",
    "print(f\"B = {b}\")"
   ]
  },
  {
   "cell_type": "markdown",
   "id": "e75c4e1d-cd1e-4c8b-8fa9-8640a888f5d3",
   "metadata": {},
   "source": [
    "## 2- String (chaîne de caractères)"
   ]
  },
  {
   "cell_type": "code",
   "execution_count": 131,
   "id": "0f4863f0-91b5-4b9b-b47d-62f4878fa1ac",
   "metadata": {},
   "outputs": [
    {
     "name": "stdout",
     "output_type": "stream",
     "text": [
      "Cette chaine a une longueur de 8 caractères\n"
     ]
    }
   ],
   "source": [
    "# Longueur d'une chaine : len()\n",
    "ch = \"Master 1\"\n",
    "long = len(ch)\n",
    "print(f\"Cette chaine a une longueur de {long} caractères\")"
   ]
  },
  {
   "cell_type": "markdown",
   "id": "56cb0d0d-7a33-48dd-bccb-bc7c1aa4920b",
   "metadata": {},
   "source": [
    "Séparer une chaîne de caractères : split()"
   ]
  },
  {
   "cell_type": "code",
   "execution_count": 134,
   "id": "8656b370-c562-491f-92f1-00db79d1060b",
   "metadata": {},
   "outputs": [],
   "source": [
    "phrase = \"Master en science économiques EMF et EGE. Master en science économiques EMF et EGE.\"\n",
    "separe = phrase.split(' ')"
   ]
  },
  {
   "cell_type": "code",
   "execution_count": 135,
   "id": "8001d563-3bb4-4dc2-a774-fc40698ae64b",
   "metadata": {},
   "outputs": [
    {
     "name": "stdout",
     "output_type": "stream",
     "text": [
      "['Master', 'en', 'science', 'économiques', 'EMF', 'et', 'EGE.', 'Master', 'en', 'science', 'économiques', 'EMF', 'et', 'EGE.']\n"
     ]
    }
   ],
   "source": [
    "print(separe)"
   ]
  },
  {
   "cell_type": "markdown",
   "id": "6cbe09d7-3ba6-4a13-a969-f058b4ca50e0",
   "metadata": {},
   "source": [
    "## 3- les Intervalles : range"
   ]
  },
  {
   "cell_type": "code",
   "execution_count": null,
   "id": "7c26df17-22d2-47e9-b04f-d829668369d8",
   "metadata": {},
   "outputs": [],
   "source": [
    "# range(start_value, stop_value, step_value) start -> step -> stop-1\n",
    "range(1,10)\n",
    "# 1, 2, 3, 4, 5, 6, 7, 8, 9\n",
    "range(10)\n",
    "# 0, 1, 2, 3, 4, 5, 6, 7, 8, 9\n",
    "range(0,10)\n",
    "range(1,10,2)\n",
    "1,3,5,7,9"
   ]
  },
  {
   "cell_type": "markdown",
   "id": "41630d74-46b3-462a-8b8d-49551a03c89d",
   "metadata": {},
   "source": [
    "## 4- Le type list (liste) قائمة\n",
    "Le type <b>list</b> est une collection d’éléments séparés par des virgules, entre deux crochets."
   ]
  },
  {
   "cell_type": "code",
   "execution_count": 136,
   "id": "a53a07ce-9ed8-4606-bf81-8f7fa1bb7035",
   "metadata": {},
   "outputs": [],
   "source": [
    "Institut = ['SECG', 'DSP', 'LLA', 'SHP', 'ST']"
   ]
  },
  {
   "cell_type": "code",
   "execution_count": 137,
   "id": "42384a9a-55ca-4677-9bd0-55824c01092c",
   "metadata": {},
   "outputs": [
    {
     "data": {
      "text/plain": [
       "list"
      ]
     },
     "execution_count": 137,
     "metadata": {},
     "output_type": "execute_result"
    }
   ],
   "source": [
    "type(Institut)"
   ]
  },
  {
   "cell_type": "code",
   "execution_count": 138,
   "id": "7899fff2-4863-405a-93b4-8c8be8a2f265",
   "metadata": {},
   "outputs": [],
   "source": [
    "# Accès au élément du tuple en utilisant les index : commence par 0\n",
    "dep = Institut[0]"
   ]
  },
  {
   "cell_type": "code",
   "execution_count": 139,
   "id": "751ff05a-e1f2-4dd8-a991-054550c0f410",
   "metadata": {},
   "outputs": [
    {
     "name": "stdout",
     "output_type": "stream",
     "text": [
      "Notre Institut est SECG\n"
     ]
    }
   ],
   "source": [
    "print(f\"Notre Institut est {dep}\")"
   ]
  },
  {
   "cell_type": "code",
   "execution_count": 140,
   "id": "2d769ab8-b086-4b48-9de0-535929b26979",
   "metadata": {},
   "outputs": [
    {
     "name": "stdout",
     "output_type": "stream",
     "text": [
      "Le dernier Institut est ST\n"
     ]
    }
   ],
   "source": [
    "print(f\"Le dernier Institut est {Institut[-1]}\")"
   ]
  },
  {
   "cell_type": "code",
   "execution_count": 141,
   "id": "a35129d5-e365-49a1-98ac-bb150b162541",
   "metadata": {},
   "outputs": [
    {
     "name": "stdout",
     "output_type": "stream",
     "text": [
      "Le dernier Institut est SHP\n"
     ]
    }
   ],
   "source": [
    "print(f\"Le dernier Institut est {Institut[-2]}\")"
   ]
  },
  {
   "cell_type": "code",
   "execution_count": 142,
   "id": "a4c23736-483d-4d28-a55d-c9383eb8b1e5",
   "metadata": {},
   "outputs": [],
   "source": [
    "# Nombre d'élément dans le tuple fonction : len()\n",
    "nbre_elem = len(Institut)"
   ]
  },
  {
   "cell_type": "code",
   "execution_count": 143,
   "id": "c99c0cd0-5ceb-4b90-a57a-cedd1ce6ee38",
   "metadata": {},
   "outputs": [
    {
     "name": "stdout",
     "output_type": "stream",
     "text": [
      "Nombre d'Institut est 5\n"
     ]
    }
   ],
   "source": [
    "print(f\"Nombre d'Institut est {nbre_elem}\")"
   ]
  },
  {
   "cell_type": "code",
   "execution_count": 144,
   "id": "506d3d65-30e7-4aaf-b356-63ff2fbefecd",
   "metadata": {},
   "outputs": [],
   "source": [
    "# supprimer un élément par son index en utilisant la fct del = delete\n",
    "del Institut[2]"
   ]
  },
  {
   "cell_type": "code",
   "execution_count": 145,
   "id": "7b8c2c3b-67bd-4938-8932-31df735579e6",
   "metadata": {},
   "outputs": [
    {
     "data": {
      "text/plain": [
       "['SECG', 'DSP', 'SHP', 'ST']"
      ]
     },
     "execution_count": 145,
     "metadata": {},
     "output_type": "execute_result"
    }
   ],
   "source": [
    "Institut"
   ]
  },
  {
   "cell_type": "code",
   "execution_count": 146,
   "id": "1b8cd30c-4057-48b5-819c-65af69cdafdb",
   "metadata": {},
   "outputs": [],
   "source": [
    "# supprimer par élément fct remove\n",
    "Institut.remove('SHP')"
   ]
  },
  {
   "cell_type": "code",
   "execution_count": 147,
   "id": "42050364-b157-412c-9e6f-16e8a661e7cd",
   "metadata": {},
   "outputs": [
    {
     "data": {
      "text/plain": [
       "['SECG', 'DSP', 'ST']"
      ]
     },
     "execution_count": 147,
     "metadata": {},
     "output_type": "execute_result"
    }
   ],
   "source": [
    "Institut"
   ]
  },
  {
   "cell_type": "code",
   "execution_count": 148,
   "id": "1a122482-0797-4ba8-a542-7509158c2494",
   "metadata": {},
   "outputs": [],
   "source": [
    "# Insérer un élément dans la liste\n",
    "# insérer à un index\n",
    "Institut.insert(3,'SHP')"
   ]
  },
  {
   "cell_type": "code",
   "execution_count": 149,
   "id": "484d14c1-81e9-468d-8e8b-efe90df58e60",
   "metadata": {},
   "outputs": [
    {
     "data": {
      "text/plain": [
       "['SECG', 'DSP', 'ST', 'SHP']"
      ]
     },
     "execution_count": 149,
     "metadata": {},
     "output_type": "execute_result"
    }
   ],
   "source": [
    "Institut"
   ]
  },
  {
   "cell_type": "code",
   "execution_count": 150,
   "id": "11849c4e-6fef-44fd-8094-eb8822695bcd",
   "metadata": {},
   "outputs": [],
   "source": [
    "Institut.insert(3,'LLA')"
   ]
  },
  {
   "cell_type": "code",
   "execution_count": 151,
   "id": "af800fc7-de98-4ab4-bb4a-3a7b65411355",
   "metadata": {},
   "outputs": [
    {
     "data": {
      "text/plain": [
       "['SECG', 'DSP', 'ST', 'LLA', 'SHP']"
      ]
     },
     "execution_count": 151,
     "metadata": {},
     "output_type": "execute_result"
    }
   ],
   "source": [
    "Institut"
   ]
  },
  {
   "cell_type": "code",
   "execution_count": 152,
   "id": "521b6c89-0e2e-4916-8cec-3cc8e6e29cb2",
   "metadata": {},
   "outputs": [],
   "source": [
    "# Prolonger une liste \n",
    "# la fct extend\n",
    "Institut.extend(['ILA', 'MI'])"
   ]
  },
  {
   "cell_type": "code",
   "execution_count": 153,
   "id": "8a12bd0c-5c84-4c41-b0ce-7616c67a6695",
   "metadata": {},
   "outputs": [
    {
     "data": {
      "text/plain": [
       "['SECG', 'DSP', 'ST', 'LLA', 'SHP', 'ILA', 'MI']"
      ]
     },
     "execution_count": 153,
     "metadata": {},
     "output_type": "execute_result"
    }
   ],
   "source": [
    "Institut"
   ]
  },
  {
   "cell_type": "code",
   "execution_count": 159,
   "id": "93a23331-4a72-4bec-9bf1-2a2f3e27d91a",
   "metadata": {},
   "outputs": [],
   "source": [
    "# 2, 4, ... 16, 18,  stop-1\n",
    "interval = range(2,20,2)\n",
    "liste = list(interval)"
   ]
  },
  {
   "cell_type": "code",
   "execution_count": 160,
   "id": "f98fcad7-376b-4f78-99b6-8783ead247cb",
   "metadata": {},
   "outputs": [
    {
     "data": {
      "text/plain": [
       "[2, 4, 6, 8, 10, 12, 14, 16, 18]"
      ]
     },
     "execution_count": 160,
     "metadata": {},
     "output_type": "execute_result"
    }
   ],
   "source": [
    "liste"
   ]
  },
  {
   "cell_type": "code",
   "execution_count": 162,
   "id": "b311b1bb-13aa-46e8-a102-0b3e04daf826",
   "metadata": {},
   "outputs": [],
   "source": [
    "#inverser la liste\n",
    "liste.reverse()"
   ]
  },
  {
   "cell_type": "code",
   "execution_count": 163,
   "id": "e63bc1c4-4ec5-4d82-bcfa-0adb36098572",
   "metadata": {},
   "outputs": [
    {
     "data": {
      "text/plain": [
       "[18, 16, 14, 12, 10, 8, 6, 4, 2]"
      ]
     },
     "execution_count": 163,
     "metadata": {},
     "output_type": "execute_result"
    }
   ],
   "source": [
    "liste"
   ]
  },
  {
   "cell_type": "code",
   "execution_count": 164,
   "id": "805d61e4-a40e-4d21-9db2-b2995d7185aa",
   "metadata": {},
   "outputs": [],
   "source": [
    "#ordonner la liste\n",
    "liste.sort()"
   ]
  },
  {
   "cell_type": "code",
   "execution_count": 165,
   "id": "9228a4b1-4bc4-4098-9748-cd554a55033a",
   "metadata": {},
   "outputs": [
    {
     "data": {
      "text/plain": [
       "[2, 4, 6, 8, 10, 12, 14, 16, 18]"
      ]
     },
     "execution_count": 165,
     "metadata": {},
     "output_type": "execute_result"
    }
   ],
   "source": [
    "liste"
   ]
  },
  {
   "cell_type": "code",
   "execution_count": 166,
   "id": "d89317a8-4fbe-48bf-bbf9-8718723385a9",
   "metadata": {},
   "outputs": [],
   "source": [
    "liste2 = [14, 8, 9, 16, 5, 1, 7, 3, 2]"
   ]
  },
  {
   "cell_type": "code",
   "execution_count": 168,
   "id": "d8f25851-2e60-4e28-8d89-b8f4fe85b7ba",
   "metadata": {},
   "outputs": [],
   "source": [
    "liste2.sort()"
   ]
  },
  {
   "cell_type": "code",
   "execution_count": 169,
   "id": "9d412289-d6f8-41a0-a3ad-50a88b579dd6",
   "metadata": {},
   "outputs": [
    {
     "data": {
      "text/plain": [
       "[1, 2, 3, 5, 7, 8, 9, 14, 16]"
      ]
     },
     "execution_count": 169,
     "metadata": {},
     "output_type": "execute_result"
    }
   ],
   "source": [
    "liste2"
   ]
  },
  {
   "cell_type": "code",
   "execution_count": null,
   "id": "45653810-e5af-449a-807c-b4aaaa8d2987",
   "metadata": {},
   "outputs": [],
   "source": [
    "# Condition IF"
   ]
  },
  {
   "cell_type": "markdown",
   "id": "1e708bbf-530a-4be4-8cd3-99e8605cd446",
   "metadata": {},
   "source": [
    "si condition alors \n",
    "        <br>action1\n",
    "<br>sinon \n",
    "<br>Action2\n",
    "\n",
    "si condition alors \n",
    "        <br>action1\n",
    "<br>sinon \n",
    "si condition alors \n",
    "<br>Action2\n",
    "<br> sinon\n",
    "Action3\n",
    "\n",
    "A > B\n",
    "A < B\n",
    "A == B"
   ]
  },
  {
   "cell_type": "code",
   "execution_count": null,
   "id": "959ea31b-b45a-4fb4-8d8e-7ce2ca2317a7",
   "metadata": {},
   "outputs": [],
   "source": [
    "if condition :\n",
    "    instruction1\n",
    "    instruction2\n",
    "    ...\n",
    "    instruction n\n",
    "else :\n",
    "    instruction1\n",
    "    instruction2\n",
    "    ...\n",
    "    instruction n\n",
    "\n",
    "if condition :\n",
    "    instruction1\n",
    "    instruction2\n",
    "    ...\n",
    "    instruction n\n",
    "elif // else if condition :\n",
    "    instruction1\n",
    "    instruction 2\n",
    "    instruction3\n",
    "    instruction4\n",
    "else :\n",
    "    instruction1\n",
    "    instruction2\n",
    "    ...\n",
    "    instruction n"
   ]
  },
  {
   "cell_type": "code",
   "execution_count": 174,
   "id": "40a50853-2e07-4833-b38c-7e59b926df9a",
   "metadata": {},
   "outputs": [
    {
     "name": "stdout",
     "output_type": "stream",
     "text": [
      "False\n",
      "False\n",
      "True\n",
      " A est égale à b\n"
     ]
    }
   ],
   "source": [
    "a = 5\n",
    "b = 5\n",
    "\n",
    "print(a>b)\n",
    "print(a<b)\n",
    "print(a==b)\n",
    "\n",
    "if a > b :\n",
    "    print(\" A est supérieur à b\")\n",
    "elif a < b:\n",
    "    print(\" A est inférieur à b\")\n",
    "else :\n",
    "    print(\" A est égale à b\")"
   ]
  },
  {
   "cell_type": "code",
   "execution_count": 175,
   "id": "7cb860f0-a5be-4fa4-9ddc-aaf069f3e3f0",
   "metadata": {},
   "outputs": [
    {
     "name": "stdout",
     "output_type": "stream",
     "text": [
      "0\n",
      "1\n",
      "2\n",
      "3\n",
      "4\n",
      "5\n",
      "6\n",
      "7\n",
      "8\n",
      "9\n"
     ]
    }
   ],
   "source": [
    "# 0 - 9\n",
    "for i in range(10) :\n",
    "    print(i)"
   ]
  },
  {
   "cell_type": "code",
   "execution_count": 177,
   "id": "f9a7c0d3-79d8-49f6-9f05-d77c62f3d592",
   "metadata": {},
   "outputs": [
    {
     "data": {
      "text/plain": [
       "['SECG', 'DSP', 'ST', 'LLA', 'SHP', 'ILA', 'MI']"
      ]
     },
     "execution_count": 177,
     "metadata": {},
     "output_type": "execute_result"
    }
   ],
   "source": [
    "Institut"
   ]
  },
  {
   "cell_type": "code",
   "execution_count": 179,
   "id": "ef615f25-90c1-4357-8037-e11e871fefbe",
   "metadata": {},
   "outputs": [
    {
     "name": "stdout",
     "output_type": "stream",
     "text": [
      "SECG\n",
      "DSP\n",
      "ST\n",
      "LLA\n",
      "SHP\n",
      "ILA\n",
      "MI\n"
     ]
    }
   ],
   "source": [
    "for element in Institut :\n",
    "     print(element)"
   ]
  },
  {
   "cell_type": "code",
   "execution_count": 180,
   "id": "5258d3f0-6dd3-4e15-ba74-22ae1a16ae1b",
   "metadata": {},
   "outputs": [
    {
     "data": {
      "text/plain": [
       "['Master',\n",
       " 'en',\n",
       " 'science',\n",
       " 'économiques',\n",
       " 'EMF',\n",
       " 'et',\n",
       " 'EGE.',\n",
       " 'Master',\n",
       " 'en',\n",
       " 'science',\n",
       " 'économiques',\n",
       " 'EMF',\n",
       " 'et',\n",
       " 'EGE.']"
      ]
     },
     "execution_count": 180,
     "metadata": {},
     "output_type": "execute_result"
    }
   ],
   "source": [
    "separe"
   ]
  },
  {
   "cell_type": "code",
   "execution_count": 178,
   "id": "1f9e4e37-02a3-4ea4-9cd9-32e983b500f2",
   "metadata": {},
   "outputs": [
    {
     "name": "stdout",
     "output_type": "stream",
     "text": [
      "Occurence de Master est 2\n"
     ]
    }
   ],
   "source": [
    "# chaine de caractere phrase\n",
    "# separe = phrase.split(' ')\n",
    "# separe -> liste split() \n",
    "first = separe[0]\n",
    "compteur = 0\n",
    "for element in separe :\n",
    "    if first == element :\n",
    "        compteur = compteur + 1\n",
    "\n",
    "print(f\"Occurence de {first} est {compteur}\")"
   ]
  },
  {
   "cell_type": "code",
   "execution_count": 181,
   "id": "21337772-0de2-47bc-83a3-921db4c35d34",
   "metadata": {},
   "outputs": [
    {
     "data": {
      "text/plain": [
       "'Master'"
      ]
     },
     "execution_count": 181,
     "metadata": {},
     "output_type": "execute_result"
    }
   ],
   "source": [
    "first"
   ]
  },
  {
   "cell_type": "code",
   "execution_count": 184,
   "id": "9ac805dc-0b47-446f-ad3a-778efe141976",
   "metadata": {},
   "outputs": [
    {
     "name": "stdin",
     "output_type": "stream",
     "text": [
      " politique\n"
     ]
    }
   ],
   "source": [
    "first = input()"
   ]
  },
  {
   "cell_type": "code",
   "execution_count": 185,
   "id": "a6e80dd3-2667-41d0-a7e6-4649e7c5a51d",
   "metadata": {},
   "outputs": [
    {
     "name": "stdout",
     "output_type": "stream",
     "text": [
      "Occurence de politique est 0\n"
     ]
    }
   ],
   "source": [
    "#first = separe[0]\n",
    "compteur = 0\n",
    "for element in separe :\n",
    "    if first == element :\n",
    "        compteur = compteur + 1\n",
    "\n",
    "print(f\"Occurence de {first} est {compteur}\")"
   ]
  },
  {
   "cell_type": "code",
   "execution_count": 1,
   "id": "734add9f-ddce-4c85-a36c-ef87ac9253c7",
   "metadata": {},
   "outputs": [],
   "source": [
    "text_eco = \"L'économie est initialement l’art de bien administrer une maison, l’art de gérer les biens d’un particulier. Elle est traitée de cette manière par Aristote dans son ouvrage La Politique. L’économie politique est devenue une science de l’administration autour du XVIIIe siècle avec ses précurseurs qu’ont été Turgot en France et Smith en Angleterre.\""
   ]
  },
  {
   "cell_type": "code",
   "execution_count": 17,
   "id": "6ae94195-f307-4b7c-9186-2b273a2d845a",
   "metadata": {},
   "outputs": [],
   "source": [
    "#diviser\n",
    "# lower() upper()\n",
    "text_eco = text_eco.lower()"
   ]
  },
  {
   "cell_type": "code",
   "execution_count": 19,
   "id": "0334a6fa-83cd-4d2f-9e5a-05b76a9b9724",
   "metadata": {},
   "outputs": [],
   "source": [
    "mots = text_eco.split(' ')"
   ]
  },
  {
   "cell_type": "code",
   "execution_count": 23,
   "id": "b1c46319-ee8a-459a-964c-479d04e0ed19",
   "metadata": {},
   "outputs": [
    {
     "name": "stdout",
     "output_type": "stream",
     "text": [
      "[\"l'économie\", 'est', 'initialement', 'l’art', 'de', 'bien', 'administrer', 'une', 'maison,', 'l’art', 'de', 'gérer', 'les', 'biens', 'd’un', 'particulier.', 'elle', 'est', 'traitée', 'de', 'cette', 'manière', 'par', 'aristote', 'dans', 'son', 'ouvrage', 'la', 'politique.', 'l’économie', 'politique', 'est', 'devenue', 'une', 'science', 'de', 'l’administration', 'autour', 'du', 'xviiie', 'siècle', 'avec', 'ses', 'précurseurs', 'qu’ont', 'été', 'turgot', 'en', 'france', 'et', 'smith', 'en', 'angleterre.']\n"
     ]
    }
   ],
   "source": [
    "print(mots)"
   ]
  },
  {
   "cell_type": "code",
   "execution_count": 18,
   "id": "4b2b0f01-8094-4d06-a149-105bfc0e2c95",
   "metadata": {},
   "outputs": [
    {
     "name": "stdout",
     "output_type": "stream",
     "text": [
      "l'économie est initialement l’art de bien administrer une maison, l’art de gérer les biens d’un particulier. elle est traitée de cette manière par aristote dans son ouvrage la politique. l’économie politique est devenue une science de l’administration autour du xviiie siècle avec ses précurseurs qu’ont été turgot en france et smith en angleterre.\n"
     ]
    }
   ],
   "source": [
    "print(text_eco)"
   ]
  },
  {
   "cell_type": "code",
   "execution_count": 22,
   "id": "8399ba70-4ac7-45d3-91d2-aaa5be3d2d90",
   "metadata": {},
   "outputs": [
    {
     "name": "stdin",
     "output_type": "stream",
     "text": [
      "Donnez le mot à chercher Ouvrage\n"
     ]
    }
   ],
   "source": [
    "mot_rech = input(\"Donnez le mot à chercher\")"
   ]
  },
  {
   "cell_type": "code",
   "execution_count": 24,
   "id": "e32d7e7f-a3b6-4922-8b2a-a2ed1e1d0f87",
   "metadata": {},
   "outputs": [
    {
     "name": "stdout",
     "output_type": "stream",
     "text": [
      "Occurence de Ouvrage est 1\n"
     ]
    }
   ],
   "source": [
    "mot_rech = mot_rech.lower()\n",
    "compteur = 0\n",
    "for element in mots :\n",
    "    if mot_rech == element :\n",
    "        compteur = compteur + 1\n",
    "\n",
    "print(f\"Occurence de {mot_rech} est {compteur}\")"
   ]
  },
  {
   "cell_type": "code",
   "execution_count": 25,
   "id": "deb0ea71-4cf3-403b-ad65-adbb9a52b4a5",
   "metadata": {},
   "outputs": [],
   "source": [
    "# NLTK - nltk\n",
    "#Installation de NLTK\n",
    "##### conda install nltk\n",
    "# importation de nltk\n",
    "import nltk"
   ]
  },
  {
   "cell_type": "code",
   "execution_count": 26,
   "id": "6d968ad6-c341-417c-b9eb-9a69934def94",
   "metadata": {},
   "outputs": [],
   "source": [
    "# package calcul numérique et matrice (narray)\n",
    "import numpy"
   ]
  },
  {
   "cell_type": "code",
   "execution_count": null,
   "id": "160a0a82-d300-4c12-bb72-869b3cd5324a",
   "metadata": {},
   "outputs": [],
   "source": [
    "#Dataframe / statistique PAndas (.csv)\n",
    "# num_insc,nom,prenom,date_nais,adr\n",
    "#123456,Mohammedi,ahmed,12/03/2001,cite chouhada\n",
    "import pandas"
   ]
  },
  {
   "cell_type": "code",
   "execution_count": 27,
   "id": "5b984a32-de87-4d5c-85b5-64c2afb74849",
   "metadata": {},
   "outputs": [],
   "source": [
    "text_eco = \"\"\"\n",
    "L'économie est initialement l’art de bien administrer une maison, l’art de gérer les biens d’un particulier. \n",
    "Elle est traitée de cette manière par Aristote dans son ouvrage La Politique. L’économie politique est devenue une science de \n",
    "l’administration autour du XVIIIe siècle avec ses précurseurs qu’ont été Turgot en France et Smith en Angleterre.\n",
    "\"\"\""
   ]
  },
  {
   "cell_type": "code",
   "execution_count": 28,
   "id": "b24e7d1e-d9f0-45d4-91d2-3caac88e03c3",
   "metadata": {},
   "outputs": [],
   "source": [
    "from nltk.tokenize import word_tokenize\n",
    "token = word_tokenize(text_eco)"
   ]
  },
  {
   "cell_type": "code",
   "execution_count": 29,
   "id": "b3752901-9261-4345-ac98-9e1395efd870",
   "metadata": {},
   "outputs": [
    {
     "name": "stdout",
     "output_type": "stream",
     "text": [
      "[\"L'économie\", 'est', 'initialement', 'l', '’', 'art', 'de', 'bien', 'administrer', 'une', 'maison', ',', 'l', '’', 'art', 'de', 'gérer', 'les', 'biens', 'd', '’', 'un', 'particulier', '.', 'Elle', 'est', 'traitée', 'de', 'cette', 'manière', 'par', 'Aristote', 'dans', 'son', 'ouvrage', 'La', 'Politique', '.', 'L', '’', 'économie', 'politique', 'est', 'devenue', 'une', 'science', 'de', 'l', '’', 'administration', 'autour', 'du', 'XVIIIe', 'siècle', 'avec', 'ses', 'précurseurs', 'qu', '’', 'ont', 'été', 'Turgot', 'en', 'France', 'et', 'Smith', 'en', 'Angleterre', '.']\n"
     ]
    }
   ],
   "source": [
    "print(token)"
   ]
  },
  {
   "cell_type": "code",
   "execution_count": 32,
   "id": "d7278166-7427-46ea-bc73-6473dc4686e7",
   "metadata": {},
   "outputs": [],
   "source": [
    "text_simple =\"Ahmed mange une pomme. il va à l'école. Il révise se devoir.\""
   ]
  },
  {
   "cell_type": "code",
   "execution_count": 33,
   "id": "73682a18-d4ed-4df0-9e6c-7c618e812120",
   "metadata": {},
   "outputs": [],
   "source": [
    "from nltk.tokenize import sent_tokenize\n",
    "phrase = sent_tokenize(text_simple)"
   ]
  },
  {
   "cell_type": "code",
   "execution_count": 34,
   "id": "d99eba9d-f999-4b1a-8d0f-1a851cde1c10",
   "metadata": {},
   "outputs": [
    {
     "name": "stdout",
     "output_type": "stream",
     "text": [
      "['Ahmed mange une pomme.', \"il va à l'école.\", 'Il révise se devoir.']\n"
     ]
    }
   ],
   "source": [
    "print(phrase)"
   ]
  },
  {
   "cell_type": "code",
   "execution_count": 35,
   "id": "18ab9017-972b-4f4a-99a2-6db92b4425cf",
   "metadata": {},
   "outputs": [],
   "source": [
    "phrase2 = sent_tokenize(text_eco)"
   ]
  },
  {
   "cell_type": "code",
   "execution_count": 36,
   "id": "61524e9f-739e-47c0-a04e-4a2c1b7917f1",
   "metadata": {},
   "outputs": [
    {
     "name": "stdout",
     "output_type": "stream",
     "text": [
      "[\"\\nL'économie est initialement l’art de bien administrer une maison, l’art de gérer les biens d’un particulier.\", 'Elle est traitée de cette manière par Aristote dans son ouvrage La Politique.', 'L’économie politique est devenue une science de \\nl’administration autour du XVIIIe siècle avec ses précurseurs qu’ont été Turgot en France et Smith en Angleterre.']\n"
     ]
    }
   ],
   "source": [
    "print(phrase2)"
   ]
  },
  {
   "cell_type": "code",
   "execution_count": 37,
   "id": "71bfcb87-9d94-44ae-865b-22a43694239b",
   "metadata": {},
   "outputs": [
    {
     "data": {
      "text/plain": [
       "[\"\\nL'économie est initialement l’art de bien administrer une maison, l’art de gérer les biens d’un particulier.\",\n",
       " 'Elle est traitée de cette manière par Aristote dans son ouvrage La Politique.',\n",
       " 'L’économie politique est devenue une science de \\nl’administration autour du XVIIIe siècle avec ses précurseurs qu’ont été Turgot en France et Smith en Angleterre.']"
      ]
     },
     "execution_count": 37,
     "metadata": {},
     "output_type": "execute_result"
    }
   ],
   "source": [
    "phrase2"
   ]
  },
  {
   "cell_type": "code",
   "execution_count": null,
   "id": "62e5df7b-9709-454a-b30f-737890faca34",
   "metadata": {},
   "outputs": [],
   "source": []
  }
 ],
 "metadata": {
  "kernelspec": {
   "display_name": "Python 3 (ipykernel)",
   "language": "python",
   "name": "python3"
  },
  "language_info": {
   "codemirror_mode": {
    "name": "ipython",
    "version": 3
   },
   "file_extension": ".py",
   "mimetype": "text/x-python",
   "name": "python",
   "nbconvert_exporter": "python",
   "pygments_lexer": "ipython3",
   "version": "3.12.7"
  }
 },
 "nbformat": 4,
 "nbformat_minor": 5
}
